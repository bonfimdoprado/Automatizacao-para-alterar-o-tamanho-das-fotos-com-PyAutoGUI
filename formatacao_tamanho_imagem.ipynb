{
 "cells": [
  {
   "cell_type": "code",
   "execution_count": null,
   "id": "ca75ec6f",
   "metadata": {},
   "outputs": [],
   "source": [
    "import pyautogui as pg\n",
    "import time\n",
    "\n",
    "# Número de repetições\n",
    "# Alterar para a quantidade de imagens que for ser alterada\n",
    "repeticoes = 33\n",
    "\n",
    "\n",
    "for i in range(repeticoes):\n",
    "    print(f\"Iniciando repetição {i + 1} de {repeticoes}...\")\n",
    "    time.sleep(1)\n",
    "\n",
    "    pg.click(x=-1018, y=24)\n",
    "    time.sleep(0.5)\n",
    "\n",
    "    for seta_baixo in range(4):\n",
    "        pg.press('down')\n",
    "\n",
    "    pg.press('enter')\n",
    "    time.sleep(0.5)\n",
    "\n",
    "    for tab in range(2):\n",
    "        pg.press('tab')\n",
    "    time.sleep(1)\n",
    "\n",
    "    for delete in range(4):\n",
    "        pg.press('del', interval=0.2)\n",
    "\n",
    "    pg.write('800', interval=0.2)\n",
    "    pg.press('tab')\n",
    "\n",
    "    for delete in range(4):\n",
    "        pg.press('del', interval=0.2)\n",
    "\n",
    "    pg.write('800', interval=0.2)\n",
    "\n",
    "    for tab in range(3):\n",
    "        pg.press('tab')\n",
    "        time.sleep(0.3)\n",
    "    \n",
    "    pg.press('enter')\n",
    "    time.sleep(2)\n",
    "\n",
    "    pg.click(x=-381, y=49)\n",
    "    time.sleep(0.3)\n",
    "\n",
    "    pg.press('backspace')\n",
    "    time.sleep(0.3)\n",
    "\n",
    "    pg.write(r'C:\\Users\\Matheus\\Documents\\analises\\maiah\\python\\pyautogui\\tamanho alterado')\n",
    "    time.sleep(0.3)\n",
    "\n",
    "    pg.press('enter')\n",
    "    time.sleep(0.3)\n",
    "\n",
    "    pg.click(x=-799, y=625)\n",
    "\n",
    "    pg.press('right')\n",
    "    time.sleep(0.3)\n",
    "\n",
    "    pg.write('_tray')\n",
    "\n",
    "    pg.click(x=-167, y=699)\n",
    "    time.sleep(2)\n",
    "\n",
    "    pg.press('right')\n",
    "    time.sleep(0.5)    \n",
    "    \n",
    "    print(f\"Repetição {i + 1} concluída.\\n\")\n",
    "   \n",
    "\n",
    "print(\"Todas as 201 repetições foram concluídas!\")"
   ]
  }
 ],
 "metadata": {
  "kernelspec": {
   "display_name": "Python 3 (ipykernel)",
   "language": "python",
   "name": "python3"
  },
  "language_info": {
   "codemirror_mode": {
    "name": "ipython",
    "version": 3
   },
   "file_extension": ".py",
   "mimetype": "text/x-python",
   "name": "python",
   "nbconvert_exporter": "python",
   "pygments_lexer": "ipython3",
   "version": "3.9.13"
  },
  "varInspector": {
   "cols": {
    "lenName": 16,
    "lenType": 16,
    "lenVar": 40
   },
   "kernels_config": {
    "python": {
     "delete_cmd_postfix": "",
     "delete_cmd_prefix": "del ",
     "library": "var_list.py",
     "varRefreshCmd": "print(var_dic_list())"
    },
    "r": {
     "delete_cmd_postfix": ") ",
     "delete_cmd_prefix": "rm(",
     "library": "var_list.r",
     "varRefreshCmd": "cat(var_dic_list()) "
    }
   },
   "types_to_exclude": [
    "module",
    "function",
    "builtin_function_or_method",
    "instance",
    "_Feature"
   ],
   "window_display": false
  }
 },
 "nbformat": 4,
 "nbformat_minor": 5
}
